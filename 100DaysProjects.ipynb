{
 "cells": [
  {
   "cell_type": "code",
   "execution_count": 2,
   "metadata": {},
   "outputs": [
    {
     "name": "stdout",
     "output_type": "stream",
     "text": [
      "Welcome to Band Name Generator.\n",
      "Your band name is Nipawin Kahli\n"
     ]
    }
   ],
   "source": [
    "#DAY 1:\n",
    "\n",
    "#1. Create a greeting for your program.\n",
    "print(\"Welcome to Band Name Generator.\")\n",
    "#2. Ask the user for the city that they grew up in.\n",
    "city = input(\"What city did you grow up in? \")\n",
    "#3. Ask the user for the name of a pet.\n",
    "pet = input(\"What is your pet's name? \")\n",
    "#4. Combine the name of their city and pet and show them their band name.\n",
    "print(\"Your band name is \" + city + \" \" + pet)\n",
    "\n"
   ]
  },
  {
   "cell_type": "code",
   "execution_count": 1,
   "metadata": {},
   "outputs": [
    {
     "name": "stdout",
     "output_type": "stream",
     "text": [
      "Welcome to the tip calculator.\n"
     ]
    },
    {
     "ename": "ValueError",
     "evalue": "could not convert string to float: ''",
     "output_type": "error",
     "traceback": [
      "\u001b[1;31m---------------------------------------------------------------------------\u001b[0m",
      "\u001b[1;31mValueError\u001b[0m                                Traceback (most recent call last)",
      "\u001b[1;32m<ipython-input-1-12fca7b2b8ac>\u001b[0m in \u001b[0;36m<module>\u001b[1;34m\u001b[0m\n\u001b[0;32m     15\u001b[0m \u001b[0mguests\u001b[0m \u001b[1;33m=\u001b[0m \u001b[0minput\u001b[0m\u001b[1;33m(\u001b[0m\u001b[1;34m\"How many people are dividing the bill? \"\u001b[0m\u001b[1;33m)\u001b[0m\u001b[1;33m\u001b[0m\u001b[1;33m\u001b[0m\u001b[0m\n\u001b[0;32m     16\u001b[0m \u001b[1;33m\u001b[0m\u001b[0m\n\u001b[1;32m---> 17\u001b[1;33m \u001b[0mbill\u001b[0m \u001b[1;33m=\u001b[0m \u001b[0mfloat\u001b[0m\u001b[1;33m(\u001b[0m\u001b[0mbill\u001b[0m\u001b[1;33m)\u001b[0m\u001b[1;33m\u001b[0m\u001b[1;33m\u001b[0m\u001b[0m\n\u001b[0m\u001b[0;32m     18\u001b[0m \u001b[0mtip\u001b[0m \u001b[1;33m=\u001b[0m \u001b[0mfloat\u001b[0m\u001b[1;33m(\u001b[0m\u001b[0mtip\u001b[0m\u001b[1;33m)\u001b[0m \u001b[1;33m/\u001b[0m \u001b[1;36m100\u001b[0m \u001b[1;33m+\u001b[0m \u001b[1;36m1\u001b[0m\u001b[1;33m\u001b[0m\u001b[1;33m\u001b[0m\u001b[0m\n\u001b[0;32m     19\u001b[0m \u001b[0mguests\u001b[0m \u001b[1;33m=\u001b[0m \u001b[0mint\u001b[0m\u001b[1;33m(\u001b[0m\u001b[0mguests\u001b[0m\u001b[1;33m)\u001b[0m\u001b[1;33m\u001b[0m\u001b[1;33m\u001b[0m\u001b[0m\n",
      "\u001b[1;31mValueError\u001b[0m: could not convert string to float: ''"
     ]
    }
   ],
   "source": [
    "#DAY 2: Tip Calculator\n",
    "\n",
    "#If the bill was $150.00, split between 5 people, with 12% tip.\n",
    "\n",
    "#Each person should pay (150.00 / 5) * 1.12 = 33.6\n",
    "#Format the result to 2 decimal places = 33.60\n",
    "\n",
    "#Tip: There are 2 ways to round a number. You might have to do some Googling to solve this.💪\n",
    "\n",
    "#Write your code below this line 👇\n",
    "\n",
    "print(\"Welcome to the tip calculator.\")\n",
    "bill = input(\"What is your total bill? \")\n",
    "tip = input(\"What percentage tip would you like to leave? \")\n",
    "guests = input(\"How many people are dividing the bill? \")\n",
    "\n",
    "bill = float(bill)\n",
    "tip = float(tip) / 100 + 1\n",
    "guests = int(guests)\n",
    "\n",
    "with_tip = (format((bill/guests) * tip, \".2f\"))\n",
    "print(f\"Each person should pay $ {with_tip}\")\n",
    "\n",
    "#alternate formatting:\n",
    "# final_amount = \"{:.2f}\".format((bill/guests) * tip)\n",
    "# print(final_amount)\n"
   ]
  },
  {
   "cell_type": "code",
   "execution_count": null,
   "metadata": {},
   "outputs": [],
   "source": [
    "#DAY 3: Even or Odd\n",
    "\n",
    "# Don't change the code below 👇\n",
    "number = int(input(\"Which number do you want to check? \"))\n",
    "# Don't change the code above 👆\n",
    "\n",
    "#Write your code below this line 👇\n",
    "\n",
    "# print(number % 2)\n",
    "\n",
    "mod_num = number % 2\n",
    "\n",
    "if mod_num == 0:\n",
    "  print(\"This is an even number.\")\n",
    "else:\n",
    "  print(\"This is an odd number.\")\n",
    "\n",
    "#note == is the comparison operator\n"
   ]
  },
  {
   "cell_type": "code",
   "execution_count": null,
   "metadata": {},
   "outputs": [],
   "source": [
    "#DAY 3, cont: Pizza Bill\n",
    "\n",
    "# Don't change the code below 👇\n",
    "print(\"Welcome to Python Pizza Deliveries!\")\n",
    "size = input(\"What size pizza do you want? S, M, or L \")\n",
    "add_pepperoni = input(\"Do you want pepperoni? Y or N \")\n",
    "extra_cheese = input(\"Do you want extra cheese? Y or N \")\n",
    "# Don't change the code above 👆\n",
    "\n",
    "#Write your code below this line 👇\n",
    "\n",
    "\n",
    "if size == \"S\":\n",
    "  price = 15\n",
    "  if add_pepperoni == \"Y\":\n",
    "    price += 2\n",
    "elif size == \"M\":\n",
    "  price = 20\n",
    "  if add_pepperoni == \"Y\":\n",
    "    price += 3\n",
    "elif size == \"L\":\n",
    "  price = 25\n",
    "  if add_pepperoni == \"Y\":\n",
    "    price += 3\n",
    "\n",
    "if extra_cheese == \"Y\":\n",
    "  price += 1\n",
    "\n",
    "print(f\"Your final bill is ${price}.\")\n"
   ]
  },
  {
   "cell_type": "code",
   "execution_count": null,
   "metadata": {},
   "outputs": [],
   "source": [
    "#DAY 3, cont: Love Calculator\n",
    "\n",
    "# Don't change the code below 👇\n",
    "print(\"Welcome to the Love Calculator!\")\n",
    "name1 = input(\"What is your name? \\n\")\n",
    "name2 = input(\"What is their name? \\n\")\n",
    "# Don't change the code above 👆\n",
    "\n",
    "#Write your code below this line 👇\n",
    "\n",
    "# phrase1 = \"TRUE\"\n",
    "# phrase2 = \"LOVE\"\n",
    "\n",
    "T = name1.upper().count('T')\n",
    "R = name1.upper().count('R')\n",
    "U = name1.upper().count('U')\n",
    "E = name1.upper().count('E')\n",
    "T2 = name2.upper().count('T')\n",
    "R2 = name2.upper().count('R')\n",
    "U2 = name2.upper().count('U')\n",
    "E2 = name2.upper().count('E')\n",
    "\n",
    "true_total = T + R + U + E + T2 + R2 + U2 + E2\n",
    "\n",
    "L = name1.upper().count('L')\n",
    "O = name1.upper().count('O')\n",
    "V = name1.upper().count('V')\n",
    "E3 = name1.upper().count('E')\n",
    "L1 = name2.upper().count('L')\n",
    "O2 = name2.upper().count('O')\n",
    "V2 = name2.upper().count('V')\n",
    "E4 = name2.upper().count('E')\n",
    "\n",
    "love_total = L + O + V + E3 + L1 + O2 + V2 + E4\n",
    "\n",
    "score = str(true_total) + str(love_total)\n",
    "score = int(score)\n",
    "\n",
    "if score < 10 or score > 90:\n",
    "  print(f\"Your score is {score}; you go together like coke and mentos.\")\n",
    "elif score > 40 and score < 50:\n",
    "    print(f\"Your score is {score}; you are alright together.\")\n",
    "else:\n",
    "  print(f\"Your score is {score} **z**.\")\n",
    " \n",
    " # Note - would have been cleaner to combine the names into a long string into a combined_name variable \n",
    " # and just checked each against TRUE and LOVE ones\n",
    " # Could also have summed them before converting to a string and then convert and concatonate. \n"
   ]
  },
  {
   "cell_type": "code",
   "execution_count": null,
   "metadata": {},
   "outputs": [],
   "source": [
    "#DAY 3, cont: Treasure Island Game\n",
    "\n",
    "print('''\n",
    "*******************************************************************************\n",
    "          |                   |                  |                     |\n",
    " _________|________________.=\"\"_;=.______________|_____________________|_______\n",
    "|                   |  ,-\"_,=\"\"     `\"=.|                  |\n",
    "|___________________|__\"=._o`\"-._        `\"=.______________|___________________\n",
    "          |                `\"=._o`\"=._      _`\"=._                     |\n",
    " _________|_____________________:=._o \"=._.\"_.-=\"'\"=.__________________|_______\n",
    "|                   |    __.--\" , ; `\"=._o.\" ,-\"\"\"-._ \".   |\n",
    "|___________________|_._\"  ,. .` ` `` ,  `\"-._\"-._   \". '__|___________________\n",
    "          |           |o`\"=._` , \"` `; .\". ,  \"-._\"-._; ;              |\n",
    " _________|___________| ;`-.o`\"=._; .\" ` '`.\"\\` . \"-._ /_______________|_______\n",
    "|                   | |o;    `\"-.o`\"=._``  '` \" ,__.--o;   |\n",
    "|___________________|_| ;     (#) `-.o `\"=.`_.--\"_o.-; ;___|___________________\n",
    "____/______/______/___|o;._    \"      `\".o|o_.--\"    ;o;____/______/______/____\n",
    "/______/______/______/_\"=._o--._        ; | ;        ; ;/______/______/______/_\n",
    "____/______/______/______/__\"=._o--._   ;o|o;     _._;o;____/______/______/____\n",
    "/______/______/______/______/____\"=._o._; | ;_.--\"o.--\"_/______/______/______/_\n",
    "____/______/______/______/______/_____\"=.o|o_.--\"\"___/______/______/______/____\n",
    "/______/______/______/______/______/______/______/______/______/______/_____ /\n",
    "*******************************************************************************\n",
    "''')\n",
    "print(\"Welcome to Treasure Island.\")\n",
    "print(\"Your mission is to find the treasure.\\n\")\n",
    "\n",
    "#https://www.draw.io/?lightbox=1&highlight=0000ff&edit=_blank&layers=1&nav=1&title=Treasure%20Island%20Conditional.drawio#Uhttps%3A%2F%2Fdrive.google.com%2Fuc%3Fid%3D1oDe4ehjWZipYRsVfeAx2HyB7LCQ8_Fvi%26export%3Ddownload\n",
    "\n",
    "#Write your code below this line 👇\n",
    "\n",
    "choice = input('You\\'re at a crosroad. Where do you want to go? Type \"left\" or \"right\" ')\n",
    "\n",
    "if choice.lower() != \"left\":\n",
    "  print(\"You fell into a hole. Game Over.\")\n",
    "else:\n",
    "  lake = input('You\\'ve come to a lake. There is an island in the middle of the lake. Type \"wait\" to wait for a boat. Type \"swim\" to swim across. ')\n",
    "\n",
    "  if lake.lower() != \"wait\":\n",
    "    print(\"You get attacked by an angry trout. Game Over.\")\n",
    "  else: \n",
    "    door = input(\"You arrive at the island unharmed. There is a house with 3 doors. One red, one yellow and one blue. Which colour do you choose? \")\n",
    "\n",
    "    if door.lower() == \"red\":\n",
    "      print(\"You enter a room full of fire. Game Over.\")\n",
    "    elif door.lower() == \"blue\":\n",
    "      print(\"You enter a room full of beasts. Game Over.\")\n",
    "    elif door.lower() == \"yellow\": \n",
    "      print(\"You found the treasure! You Win!\")\n",
    "    else:\n",
    "      print(\"You chose a door that doesn't exist. Game Over.\")\n"
   ]
  },
  {
   "cell_type": "code",
   "execution_count": null,
   "metadata": {},
   "outputs": [],
   "source": [
    "#DAY 4:\n"
   ]
  }
 ],
 "metadata": {
  "interpreter": {
   "hash": "696f1b3f4ec608302c0ac7d485b61cbe5cb6c2ed50640f9120220e665ff62020"
  },
  "kernelspec": {
   "display_name": "Python 3.9.4 64-bit",
   "language": "python",
   "name": "python3"
  },
  "language_info": {
   "codemirror_mode": {
    "name": "ipython",
    "version": 3
   },
   "file_extension": ".py",
   "mimetype": "text/x-python",
   "name": "python",
   "nbconvert_exporter": "python",
   "pygments_lexer": "ipython3",
   "version": "3.8.5"
  },
  "orig_nbformat": 4
 },
 "nbformat": 4,
 "nbformat_minor": 2
}
