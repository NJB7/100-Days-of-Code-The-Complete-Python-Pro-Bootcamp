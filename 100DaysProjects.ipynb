{
 "cells": [
  {
   "cell_type": "code",
   "execution_count": 2,
   "metadata": {},
   "outputs": [
    {
     "name": "stdout",
     "output_type": "stream",
     "text": [
      "Welcome to Band Name Generator.\n",
      "Your band name is Nipawin Kahli\n"
     ]
    }
   ],
   "source": [
    "#DAY 1:\n",
    "\n",
    "#1. Create a greeting for your program.\n",
    "print(\"Welcome to Band Name Generator.\")\n",
    "#2. Ask the user for the city that they grew up in.\n",
    "city = input(\"What city did you grow up in? \")\n",
    "#3. Ask the user for the name of a pet.\n",
    "pet = input(\"What is your pet's name? \")\n",
    "#4. Combine the name of their city and pet and show them their band name.\n",
    "print(\"Your band name is \" + city + \" \" + pet)\n",
    "\n"
   ]
  },
  {
   "cell_type": "code",
   "execution_count": null,
   "metadata": {},
   "outputs": [],
   "source": [
    "#DAY 2:\n",
    " \n",
    "#If the bill was $150.00, split between 5 people, with 12% tip.\n",
    "\n",
    "#Each person should pay (150.00 / 5) * 1.12 = 33.6\n",
    "#Format the result to 2 decimal places = 33.60\n",
    "\n",
    "#Tip: There are 2 ways to round a number. You might have to do some Googling to solve this.💪\n",
    "\n",
    "#Write your code below this line 👇\n",
    "\n",
    "print(\"Welcome to the tip calculator.\")\n",
    "bill = input(\"What is your total bill? \")\n",
    "tip = input(\"What percentage tip would you like to leave? \")\n",
    "guests = input(\"How many people are dividing the bill? \")\n",
    "\n",
    "bill = float(bill)\n",
    "tip = float(tip) / 100 + 1\n",
    "guests = int(guests)\n",
    "\n",
    "with_tip = (format((bill/guests) * tip, \".2f\"))\n",
    "print(f\"Each person should pay $ {with_tip}\")\n"
   ]
  },
  {
   "cell_type": "code",
   "execution_count": null,
   "metadata": {},
   "outputs": [],
   "source": []
  },
  {
   "cell_type": "code",
   "execution_count": null,
   "metadata": {},
   "outputs": [],
   "source": []
  },
  {
   "cell_type": "code",
   "execution_count": null,
   "metadata": {},
   "outputs": [],
   "source": []
  }
 ],
 "metadata": {
  "interpreter": {
   "hash": "696f1b3f4ec608302c0ac7d485b61cbe5cb6c2ed50640f9120220e665ff62020"
  },
  "kernelspec": {
   "display_name": "Python 3.9.4 64-bit",
   "language": "python",
   "name": "python3"
  },
  "language_info": {
   "codemirror_mode": {
    "name": "ipython",
    "version": 3
   },
   "file_extension": ".py",
   "mimetype": "text/x-python",
   "name": "python",
   "nbconvert_exporter": "python",
   "pygments_lexer": "ipython3",
   "version": "3.9.4"
  },
  "orig_nbformat": 4
 },
 "nbformat": 4,
 "nbformat_minor": 2
}
